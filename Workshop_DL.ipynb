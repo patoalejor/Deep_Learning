{
  "nbformat": 4,
  "nbformat_minor": 0,
  "metadata": {
    "colab": {
      "name": "Workshop_DL.ipynb",
      "version": "0.3.2",
      "provenance": [],
      "collapsed_sections": []
    },
    "kernelspec": {
      "name": "python3",
      "display_name": "Python 3"
    }
  },
  "cells": [
    {
      "cell_type": "markdown",
      "metadata": {
        "id": "mImAY_ZSocG6",
        "colab_type": "text"
      },
      "source": [
        "# Deep Learning Hands-On 2019\n",
        "----\n",
        "## Content\n",
        "\n",
        "- DL Introduction\n",
        "- Basic Regularization\n",
        "  - *Early Stopping*\n",
        "  - *Dropout*\n",
        "  - *Weight Penalty*\n",
        "  - *Normalization*\n",
        "- Convolutional Neural Network\n",
        "- Recurrent Neural Network\n",
        "- Autoencoder **(CNN & RNN)**\n",
        "  - *Denoising*\n",
        "  - *U-Net*\n",
        "  - *Variational*\n",
        "- Implementations\n",
        "  - Paper 1\n",
        "  - Paper 2\n"
      ]
    },
    {
      "cell_type": "markdown",
      "metadata": {
        "id": "__i0OXHRogGa",
        "colab_type": "text"
      },
      "source": [
        "## Import Libraries\n",
        "----"
      ]
    },
    {
      "cell_type": "code",
      "metadata": {
        "id": "IUlGVxGVoU7M",
        "colab_type": "code",
        "colab": {}
      },
      "source": [
        "import numpy as np\n",
        "import tensorflow as tf\n",
        "import tensorflow.keras as K\n",
        "import matplotlib.pyplot as plt\n",
        "\n",
        "def show_number(data,true,pred):\n",
        "  print(data.shape)\n",
        "  print(len(data.shape))\n",
        "  if len(data.shape) == 4:\n",
        "    a,b,c, _ = data.shape\n",
        "    data.shape = (a,b,c)\n",
        "  else:\n",
        "    pass\n",
        "  f, ax = plt.subplots(4,4)\n",
        "  f.set_size_inches(8,8)\n",
        "  img_idx = 0\n",
        "  for i in range(0,4):\n",
        "    for j in range(0,4):\n",
        "      ax[i][j].axis('off')\n",
        "      ax[i][j].imshow(data[img_idx],cmap=plt.cm.binary)\n",
        "      ax[i][j].set_title('True label: %d\\nPred label: %d'%(true[img_idx],pred[img_idx]))\n",
        "      img_idx += 1\n",
        "  plt.subplots_adjust(left=0, bottom=0, right=1, top=1, wspace=0, hspace=0.25)\n",
        "  plt.show()\n",
        "\n",
        "def change_dim(data,to_):\n",
        "  print()\n",
        "  dim = len(data.shape)\n",
        "  if to_ == 'cnn' and dim == 3:\n",
        "    data = np.expand_dims(data, axis=3)\n",
        "  elif to_ == 'rnn' and dim == 4:\n",
        "    data = np.squeeze(data, axis=3)\n",
        "  else:\n",
        "    print('Data already on format or dimension fail')\n",
        "  return data"
      ],
      "execution_count": 0,
      "outputs": []
    },
    {
      "cell_type": "code",
      "metadata": {
        "id": "cQVlDEZWosTh",
        "colab_type": "code",
        "outputId": "488a2d5b-b13a-4a83-f037-0fbe382f864c",
        "colab": {
          "base_uri": "https://localhost:8080/",
          "height": 768
        }
      },
      "source": [
        "# Read the data\n",
        "(train_images, train_labels), (test_images, test_labels) = K.datasets.mnist.load_data()\n",
        "print('Training xy: ',train_images.shape,train_labels.shape)\n",
        "print('Testing  xy: ',test_images.shape,test_labels.shape)\n",
        "train_images = train_images / 255.\n",
        "test_images  = test_images / 255.\n",
        "rnd_idx = np.random.choice(len(test_labels),25)\n",
        "show_number(test_images[rnd_idx], test_labels[rnd_idx], test_labels[rnd_idx])"
      ],
      "execution_count": 0,
      "outputs": [
        {
          "output_type": "stream",
          "text": [
            "Downloading data from https://storage.googleapis.com/tensorflow/tf-keras-datasets/mnist.npz\n",
            "11493376/11490434 [==============================] - 0s 0us/step\n",
            "Training xy:  (60000, 28, 28) (60000,)\n",
            "Testing  xy:  (10000, 28, 28) (10000,)\n",
            "(25, 28, 28)\n",
            "3\n"
          ],
          "name": "stdout"
        },
        {
          "output_type": "display_data",
          "data": {
            "image/png": "[encoded data removed]",
            "text/plain": [
              "<Figure size 576x576 with 16 Axes>"
            ]
          },
          "metadata": {
            "tags": []
          }
        }
      ]
    },
    {
      "cell_type": "markdown",
      "metadata": {
        "id": "ZrS0Z8_ZooYw",
        "colab_type": "text"
      },
      "source": [
        "## DL Introduction\n",
        "---"
      ]
    },
    {
      "cell_type": "code",
      "metadata": {
        "id": "UNmj8-kIoc4f",
        "colab_type": "code",
        "outputId": "2814026b-ebeb-4194-b35e-8b64ef88bacf",
        "colab": {
          "base_uri": "https://localhost:8080/",
          "height": 395
        }
      },
      "source": [
        "model = K.Sequential([\n",
        "    K.layers.Flatten(input_shape=(28,28)),\n",
        "    K.layers.Dense(128, activation=tf.nn.relu),\n",
        "    K.layers.Dense(10, activation=tf.nn.softmax)\n",
        "])\n",
        "print(model.summary())"
      ],
      "execution_count": 0,
      "outputs": [
        {
          "output_type": "stream",
          "text": [
            "WARNING: Logging before flag parsing goes to stderr.\n",
            "W0822 12:59:20.235161 140612855375744 deprecation.py:506] From /usr/local/lib/python3.6/dist-packages/tensorflow/python/ops/init_ops.py:1251: calling VarianceScaling.__init__ (from tensorflow.python.ops.init_ops) with dtype is deprecated and will be removed in a future version.\n",
            "Instructions for updating:\n",
            "Call initializer instance with the dtype argument instead of passing it to the constructor\n"
          ],
          "name": "stderr"
        },
        {
          "output_type": "stream",
          "text": [
            "Model: \"sequential\"\n",
            "_________________________________________________________________\n",
            "Layer (type)                 Output Shape              Param #   \n",
            "=================================================================\n",
            "flatten (Flatten)            (None, 784)               0         \n",
            "_________________________________________________________________\n",
            "dense (Dense)                (None, 128)               100480    \n",
            "_________________________________________________________________\n",
            "dense_1 (Dense)              (None, 10)                1290      \n",
            "=================================================================\n",
            "Total params: 101,770\n",
            "Trainable params: 101,770\n",
            "Non-trainable params: 0\n",
            "_________________________________________________________________\n",
            "None\n"
          ],
          "name": "stdout"
        }
      ]
    },
    {
      "cell_type": "code",
      "metadata": {
        "id": "x3eDtUsNcwXn",
        "colab_type": "code",
        "outputId": "24ceccde-6f10-4d69-812a-c859d62e088d",
        "colab": {
          "base_uri": "https://localhost:8080/",
          "height": 225
        }
      },
      "source": [
        "model.compile(optimizer='adam',\n",
        "             loss='sparse_categorical_crossentropy',\n",
        "              metrics=['accuracy']\n",
        "             )\n",
        "\n",
        "model.fit(x = train_images,\n",
        "          y = train_labels,\n",
        "         verbose = 2,\n",
        "         epochs = 5,\n",
        "         batch_size = 32,\n",
        "         validation_data = (test_images, test_labels))\n",
        "\n",
        "pred_label = np.argmax(model.predict(test_images),axis=1)"
      ],
      "execution_count": 0,
      "outputs": [
        {
          "output_type": "stream",
          "text": [
            "Train on 60000 samples, validate on 10000 samples\n",
            "Epoch 1/5\n",
            "60000/60000 - 5s - loss: 0.2551 - acc: 0.9272 - val_loss: 0.1404 - val_acc: 0.9579\n",
            "Epoch 2/5\n",
            "60000/60000 - 4s - loss: 0.1117 - acc: 0.9674 - val_loss: 0.0949 - val_acc: 0.9710\n",
            "Epoch 3/5\n",
            "60000/60000 - 4s - loss: 0.0762 - acc: 0.9770 - val_loss: 0.0874 - val_acc: 0.9735\n",
            "Epoch 4/5\n",
            "60000/60000 - 4s - loss: 0.0569 - acc: 0.9825 - val_loss: 0.0789 - val_acc: 0.9749\n",
            "Epoch 5/5\n",
            "60000/60000 - 4s - loss: 0.0455 - acc: 0.9856 - val_loss: 0.0717 - val_acc: 0.9786\n"
          ],
          "name": "stdout"
        }
      ]
    },
    {
      "cell_type": "code",
      "metadata": {
        "id": "pzr5xzurcwNM",
        "colab_type": "code",
        "outputId": "64827455-7c46-4b4f-c0ac-84ed9ba6d221",
        "colab": {
          "base_uri": "https://localhost:8080/",
          "height": 693
        }
      },
      "source": [
        "rnd_idx = np.random.choice(len(pred_label),25)\n",
        "show_number(test_images[rnd_idx], test_labels[rnd_idx], pred_label[rnd_idx])"
      ],
      "execution_count": 0,
      "outputs": [
        {
          "output_type": "stream",
          "text": [
            "(25, 28, 28)\n",
            "3\n"
          ],
          "name": "stdout"
        },
        {
          "output_type": "display_data",
          "data": {
            "image/png": "[encoded data removed]",
            "text/plain": [
              "<Figure size 576x576 with 16 Axes>"
            ]
          },
          "metadata": {
            "tags": []
          }
        }
      ]
    },
    {
      "cell_type": "markdown",
      "metadata": {
        "id": "WOX9n1I3q0Jh",
        "colab_type": "text"
      },
      "source": [
        "## Regularization\n",
        "\n",
        "\n",
        "[Are Deep Neural Networks Dramatically Overfitted?](https://lilianweng.github.io/lil-log/2019/03/14/are-deep-neural-networks-dramatically-overfitted.html)\n",
        "\n",
        "---\n",
        "\n",
        "### Early Stopping"
      ]
    },
    {
      "cell_type": "code",
      "metadata": {
        "id": "PNa1blwQq0pq",
        "colab_type": "code",
        "outputId": "fd28a30b-ce48-4968-ec82-45defbed9e82",
        "colab": {
          "base_uri": "https://localhost:8080/",
          "height": 583
        }
      },
      "source": [
        "from tensorflow.keras.callbacks import ModelCheckpoint\n",
        "from tensorflow.keras.callbacks import EarlyStopping\n",
        "\n",
        "print(model.summary())\n",
        "\n",
        "# saves the model weights after each epoch if the validation loss decreased\n",
        "checkpointer = ModelCheckpoint(filepath='./weights.hdf5', verbose=1, save_best_only=True)\n",
        "early_stop   = EarlyStopping(monitor='val_loss', min_delta=0.01, patience=2, verbose=1, mode='auto')\n",
        "\n",
        "model.fit(x = train_images,\n",
        "          y = train_labels,\n",
        "         verbose = 2,\n",
        "         epochs = 5,\n",
        "         batch_size = 32,\n",
        "         validation_data = (test_images, test_labels),\n",
        "         callbacks=[checkpointer, early_stop])\n"
      ],
      "execution_count": 0,
      "outputs": [
        {
          "output_type": "stream",
          "text": [
            "Model: \"sequential\"\n",
            "_________________________________________________________________\n",
            "Layer (type)                 Output Shape              Param #   \n",
            "=================================================================\n",
            "flatten (Flatten)            (None, 784)               0         \n",
            "_________________________________________________________________\n",
            "dense (Dense)                (None, 128)               100480    \n",
            "_________________________________________________________________\n",
            "dense_1 (Dense)              (None, 10)                1290      \n",
            "=================================================================\n",
            "Total params: 101,770\n",
            "Trainable params: 101,770\n",
            "Non-trainable params: 0\n",
            "_________________________________________________________________\n",
            "None\n",
            "Train on 60000 samples, validate on 10000 samples\n",
            "Epoch 1/5\n",
            "\n",
            "Epoch 00001: val_loss improved from inf to 0.07774, saving model to ./weights.hdf5\n",
            "60000/60000 - 4s - loss: 0.0346 - acc: 0.9892 - val_loss: 0.0777 - val_acc: 0.9762\n",
            "Epoch 2/5\n",
            "\n",
            "Epoch 00002: val_loss did not improve from 0.07774\n",
            "60000/60000 - 4s - loss: 0.0272 - acc: 0.9919 - val_loss: 0.0798 - val_acc: 0.9766\n",
            "Epoch 3/5\n",
            "\n",
            "Epoch 00003: val_loss improved from 0.07774 to 0.07431, saving model to ./weights.hdf5\n",
            "60000/60000 - 4s - loss: 0.0221 - acc: 0.9932 - val_loss: 0.0743 - val_acc: 0.9788\n",
            "Epoch 00003: early stopping\n"
          ],
          "name": "stdout"
        },
        {
          "output_type": "execute_result",
          "data": {
            "text/plain": [
              "<tensorflow.python.keras.callbacks.History at 0x7fe2b93146d8>"
            ]
          },
          "metadata": {
            "tags": []
          },
          "execution_count": 6
        }
      ]
    },
    {
      "cell_type": "markdown",
      "metadata": {
        "id": "0cvWymIkq1NR",
        "colab_type": "text"
      },
      "source": [
        "### Dropout"
      ]
    },
    {
      "cell_type": "code",
      "metadata": {
        "id": "n_THBPKWq1jY",
        "colab_type": "code",
        "outputId": "ad622a9b-ba8f-4ff1-a62b-6d2fd048216e",
        "colab": {
          "base_uri": "https://localhost:8080/",
          "height": 602
        }
      },
      "source": [
        "rate = 0.5\n",
        "\n",
        "model = K.Sequential([\n",
        "    K.layers.Flatten(input_shape=(28,28)),\n",
        "    K.layers.Dropout(rate),\n",
        "    K.layers.Dense(128, activation=tf.nn.relu),\n",
        "    K.layers.Dropout(rate),\n",
        "    K.layers.Dense(10, activation=tf.nn.softmax)\n",
        "])\n",
        "print(model.summary())\n",
        "\n",
        "model.compile(optimizer='adam',\n",
        "             loss='sparse_categorical_crossentropy',\n",
        "              metrics=['accuracy']\n",
        "             )\n",
        "\n",
        "model.fit(x = train_images,\n",
        "          y = train_labels,\n",
        "         verbose = 2,\n",
        "         epochs = 5,\n",
        "         batch_size = 32,\n",
        "         validation_data = (test_images, test_labels))"
      ],
      "execution_count": 0,
      "outputs": [
        {
          "output_type": "stream",
          "text": [
            "Model: \"sequential_1\"\n",
            "_________________________________________________________________\n",
            "Layer (type)                 Output Shape              Param #   \n",
            "=================================================================\n",
            "flatten_1 (Flatten)          (None, 784)               0         \n",
            "_________________________________________________________________\n",
            "dropout (Dropout)            (None, 784)               0         \n",
            "_________________________________________________________________\n",
            "dense_2 (Dense)              (None, 128)               100480    \n",
            "_________________________________________________________________\n",
            "dropout_1 (Dropout)          (None, 128)               0         \n",
            "_________________________________________________________________\n",
            "dense_3 (Dense)              (None, 10)                1290      \n",
            "=================================================================\n",
            "Total params: 101,770\n",
            "Trainable params: 101,770\n",
            "Non-trainable params: 0\n",
            "_________________________________________________________________\n",
            "None\n",
            "Train on 60000 samples, validate on 10000 samples\n",
            "Epoch 1/5\n",
            "60000/60000 - 5s - loss: 0.6017 - acc: 0.8108 - val_loss: 0.2151 - val_acc: 0.9403\n",
            "Epoch 2/5\n",
            "60000/60000 - 5s - loss: 0.3882 - acc: 0.8809 - val_loss: 0.1680 - val_acc: 0.9538\n",
            "Epoch 3/5\n",
            "60000/60000 - 5s - loss: 0.3351 - acc: 0.8960 - val_loss: 0.1472 - val_acc: 0.9562\n",
            "Epoch 4/5\n",
            "60000/60000 - 5s - loss: 0.3126 - acc: 0.9024 - val_loss: 0.1332 - val_acc: 0.9618\n",
            "Epoch 5/5\n",
            "60000/60000 - 5s - loss: 0.3022 - acc: 0.9073 - val_loss: 0.1238 - val_acc: 0.9632\n"
          ],
          "name": "stdout"
        },
        {
          "output_type": "execute_result",
          "data": {
            "text/plain": [
              "<tensorflow.python.keras.callbacks.History at 0x7fe2b917a2e8>"
            ]
          },
          "metadata": {
            "tags": []
          },
          "execution_count": 7
        }
      ]
    },
    {
      "cell_type": "markdown",
      "metadata": {
        "id": "kiGaS7Yqq2O5",
        "colab_type": "text"
      },
      "source": [
        "### Weight Penalty"
      ]
    },
    {
      "cell_type": "code",
      "metadata": {
        "id": "8pgaU1G8q2jj",
        "colab_type": "code",
        "outputId": "b428a3f5-8391-4ad7-df1f-0449341c51f7",
        "colab": {
          "base_uri": "https://localhost:8080/",
          "height": 490
        }
      },
      "source": [
        "from tensorflow.keras import regularizers\n",
        "import tensorflow.keras.backend as bk\n",
        "\n",
        "def l1_reg(weight_matrix):\n",
        "    return 0.01 * bk.sum(bk.abs(weight_matrix))\n",
        "\n",
        "model = K.Sequential()\n",
        "model.add(K.layers.Flatten(input_shape=(28,28)))\n",
        "model.add(K.layers.Dense(128, input_dim=784, \n",
        "                kernel_initializer='uniform',\n",
        "                kernel_regularizer=regularizers.l2(0.01)))\n",
        "model.add(K.layers.Activation('relu'))\n",
        "model.add(K.layers.Dropout(rate))\n",
        "model.add(K.layers.Dense(10, input_dim=64,\n",
        "                kernel_initializer='uniform',\n",
        "                kernel_regularizer=l1_reg))\n",
        "model.add(K.layers.Activation('softmax'))\n",
        "\n",
        "print(model.summary())"
      ],
      "execution_count": 0,
      "outputs": [
        {
          "output_type": "stream",
          "text": [
            "W0822 13:00:29.416440 140612855375744 deprecation.py:506] From /usr/local/lib/python3.6/dist-packages/tensorflow/python/keras/initializers.py:119: calling RandomUniform.__init__ (from tensorflow.python.ops.init_ops) with dtype is deprecated and will be removed in a future version.\n",
            "Instructions for updating:\n",
            "Call initializer instance with the dtype argument instead of passing it to the constructor\n"
          ],
          "name": "stderr"
        },
        {
          "output_type": "stream",
          "text": [
            "Model: \"sequential_2\"\n",
            "_________________________________________________________________\n",
            "Layer (type)                 Output Shape              Param #   \n",
            "=================================================================\n",
            "flatten_2 (Flatten)          (None, 784)               0         \n",
            "_________________________________________________________________\n",
            "dense_4 (Dense)              (None, 128)               100480    \n",
            "_________________________________________________________________\n",
            "activation (Activation)      (None, 128)               0         \n",
            "_________________________________________________________________\n",
            "dropout_2 (Dropout)          (None, 128)               0         \n",
            "_________________________________________________________________\n",
            "dense_5 (Dense)              (None, 10)                1290      \n",
            "_________________________________________________________________\n",
            "activation_1 (Activation)    (None, 10)                0         \n",
            "=================================================================\n",
            "Total params: 101,770\n",
            "Trainable params: 101,770\n",
            "Non-trainable params: 0\n",
            "_________________________________________________________________\n",
            "None\n"
          ],
          "name": "stdout"
        }
      ]
    },
    {
      "cell_type": "code",
      "metadata": {
        "id": "3I77aMlYc9yx",
        "colab_type": "code",
        "outputId": "49b7dba4-95f7-4b91-cab8-30b01c5d7f5f",
        "colab": {
          "base_uri": "https://localhost:8080/",
          "height": 243
        }
      },
      "source": [
        "model.compile(optimizer=tf.train.AdamOptimizer(learning_rate=0.003),\n",
        "             loss='sparse_categorical_crossentropy',\n",
        "              metrics=['accuracy']\n",
        "             )\n",
        "\n",
        "model.fit(x = train_images,\n",
        "          y = train_labels,\n",
        "         verbose = 2,\n",
        "         epochs = 5,\n",
        "         batch_size = 32,\n",
        "         validation_data = (test_images, test_labels))"
      ],
      "execution_count": 0,
      "outputs": [
        {
          "output_type": "stream",
          "text": [
            "Train on 60000 samples, validate on 10000 samples\n",
            "Epoch 1/5\n",
            "60000/60000 - 6s - loss: 1.4254 - acc: 0.7816 - val_loss: 1.1568 - val_acc: 0.8800\n",
            "Epoch 2/5\n",
            "60000/60000 - 6s - loss: 1.3393 - acc: 0.7969 - val_loss: 1.1732 - val_acc: 0.8587\n",
            "Epoch 3/5\n",
            "60000/60000 - 6s - loss: 1.3312 - acc: 0.7948 - val_loss: 1.1112 - val_acc: 0.8868\n",
            "Epoch 4/5\n",
            "60000/60000 - 6s - loss: 1.3195 - acc: 0.7946 - val_loss: 1.0965 - val_acc: 0.8854\n",
            "Epoch 5/5\n",
            "60000/60000 - 6s - loss: 1.3132 - acc: 0.7947 - val_loss: 1.0935 - val_acc: 0.8828\n"
          ],
          "name": "stdout"
        },
        {
          "output_type": "execute_result",
          "data": {
            "text/plain": [
              "<tensorflow.python.keras.callbacks.History at 0x7fe2b93a2a58>"
            ]
          },
          "metadata": {
            "tags": []
          },
          "execution_count": 9
        }
      ]
    },
    {
      "cell_type": "markdown",
      "metadata": {
        "id": "UlO2XG-eq3iU",
        "colab_type": "text"
      },
      "source": [
        "### Normalization"
      ]
    },
    {
      "cell_type": "code",
      "metadata": {
        "id": "DbTBBXIeq326",
        "colab_type": "code",
        "outputId": "235709bc-8528-4e1f-d5cb-7ace28c2037b",
        "colab": {
          "base_uri": "https://localhost:8080/",
          "height": 490
        }
      },
      "source": [
        "model = K.Sequential()\n",
        "model.add(K.layers.Flatten(input_shape=(28,28)))\n",
        "model.add(K.layers.Dense(128, input_dim=784, \n",
        "                kernel_initializer='normal'))\n",
        "model.add(K.layers.Activation('relu'))\n",
        "model.add(K.layers.BatchNormalization())\n",
        "model.add(K.layers.Dense(10, input_dim=64,\n",
        "                kernel_initializer='normal'))\n",
        "model.add(K.layers.Activation('softmax'))\n",
        "\n",
        "print(model.summary())"
      ],
      "execution_count": 0,
      "outputs": [
        {
          "output_type": "stream",
          "text": [
            "W0822 13:00:59.078168 140612855375744 deprecation.py:506] From /usr/local/lib/python3.6/dist-packages/tensorflow/python/keras/initializers.py:143: calling RandomNormal.__init__ (from tensorflow.python.ops.init_ops) with dtype is deprecated and will be removed in a future version.\n",
            "Instructions for updating:\n",
            "Call initializer instance with the dtype argument instead of passing it to the constructor\n"
          ],
          "name": "stderr"
        },
        {
          "output_type": "stream",
          "text": [
            "Model: \"sequential_3\"\n",
            "_________________________________________________________________\n",
            "Layer (type)                 Output Shape              Param #   \n",
            "=================================================================\n",
            "flatten_3 (Flatten)          (None, 784)               0         \n",
            "_________________________________________________________________\n",
            "dense_6 (Dense)              (None, 128)               100480    \n",
            "_________________________________________________________________\n",
            "activation_2 (Activation)    (None, 128)               0         \n",
            "_________________________________________________________________\n",
            "batch_normalization (BatchNo (None, 128)               512       \n",
            "_________________________________________________________________\n",
            "dense_7 (Dense)              (None, 10)                1290      \n",
            "_________________________________________________________________\n",
            "activation_3 (Activation)    (None, 10)                0         \n",
            "=================================================================\n",
            "Total params: 102,282\n",
            "Trainable params: 102,026\n",
            "Non-trainable params: 256\n",
            "_________________________________________________________________\n",
            "None\n"
          ],
          "name": "stdout"
        }
      ]
    },
    {
      "cell_type": "code",
      "metadata": {
        "id": "4-fE7GtndBtj",
        "colab_type": "code",
        "outputId": "0a46d4e0-993c-4892-e673-3adaf1243581",
        "colab": {
          "base_uri": "https://localhost:8080/",
          "height": 243
        }
      },
      "source": [
        "model.compile(optimizer=tf.train.AdamOptimizer(learning_rate=0.003),\n",
        "             loss='sparse_categorical_crossentropy',\n",
        "              metrics=['accuracy']\n",
        "             )\n",
        "\n",
        "model.fit(x = train_images,\n",
        "          y = train_labels,\n",
        "         verbose = 2,\n",
        "         epochs = 5,\n",
        "         batch_size = 32,\n",
        "         validation_data = (test_images, test_labels))"
      ],
      "execution_count": 0,
      "outputs": [
        {
          "output_type": "stream",
          "text": [
            "Train on 60000 samples, validate on 10000 samples\n",
            "Epoch 1/5\n",
            "60000/60000 - 6s - loss: 0.2135 - acc: 0.9366 - val_loss: 0.1370 - val_acc: 0.9552\n",
            "Epoch 2/5\n",
            "60000/60000 - 5s - loss: 0.1210 - acc: 0.9633 - val_loss: 0.1049 - val_acc: 0.9688\n",
            "Epoch 3/5\n",
            "60000/60000 - 5s - loss: 0.0955 - acc: 0.9698 - val_loss: 0.0972 - val_acc: 0.9698\n",
            "Epoch 4/5\n",
            "60000/60000 - 5s - loss: 0.0798 - acc: 0.9747 - val_loss: 0.0904 - val_acc: 0.9742\n",
            "Epoch 5/5\n",
            "60000/60000 - 5s - loss: 0.0728 - acc: 0.9765 - val_loss: 0.0953 - val_acc: 0.9747\n"
          ],
          "name": "stdout"
        },
        {
          "output_type": "execute_result",
          "data": {
            "text/plain": [
              "<tensorflow.python.keras.callbacks.History at 0x7fe2d7b1a438>"
            ]
          },
          "metadata": {
            "tags": []
          },
          "execution_count": 11
        }
      ]
    },
    {
      "cell_type": "markdown",
      "metadata": {
        "id": "Xtf7TafTq4QK",
        "colab_type": "text"
      },
      "source": [
        "### Grid Search"
      ]
    },
    {
      "cell_type": "code",
      "metadata": {
        "id": "nCWPd3FRq4nh",
        "colab_type": "code",
        "colab": {}
      },
      "source": [
        "# Use scikit-learn to grid search the batch size and epochs\n",
        "import numpy\n",
        "from sklearn.model_selection import GridSearchCV\n",
        "from tensorflow.keras.wrappers.scikit_learn import KerasClassifier\n",
        "# Function to create model, required for KerasClassifier\n",
        "def create_model():\n",
        "  # create model\n",
        "  model = K.Sequential()\n",
        "  model.add(K.layers.Flatten(input_shape=(28,28)))\n",
        "  model.add(K.layers.Dense(128, activation='relu'))\n",
        "  model.add(K.layers.Dense(10, activation='softmax'))\n",
        "  # Compile model\n",
        "  model.compile(loss='sparse_categorical_crossentropy', optimizer='adam', metrics=['accuracy'])\n",
        "  return model\n",
        "\n",
        "# fix random seed for reproducibility\n",
        "seed = 7\n",
        "numpy.random.seed(seed)"
      ],
      "execution_count": 0,
      "outputs": []
    },
    {
      "cell_type": "code",
      "metadata": {
        "id": "vMZhxH2etzPR",
        "colab_type": "code",
        "colab": {}
      },
      "source": [
        "# create model\n",
        "model = KerasClassifier(build_fn=create_model, verbose=0)\n",
        "# define the grid search parameters\n",
        "batch_size = [16, 32]\n",
        "epochs = [1, 3, 5]\n",
        "param_grid = dict(batch_size=batch_size, epochs=epochs)\n",
        "grid = GridSearchCV(estimator=model, param_grid=param_grid, cv=3, n_jobs=1)\n",
        "grid_result = grid.fit(test_images, test_labels)\n"
      ],
      "execution_count": 0,
      "outputs": []
    },
    {
      "cell_type": "code",
      "metadata": {
        "id": "TsHcILQ7wxjZ",
        "colab_type": "code",
        "outputId": "b3fb6ab7-c0ab-4dc6-beb7-1db1855bc46d",
        "colab": {
          "base_uri": "https://localhost:8080/",
          "height": 149
        }
      },
      "source": [
        "# summarize results\n",
        "print(\"Best: %f using %s\" % (grid_result.best_score_, grid_result.best_params_))\n",
        "means = grid_result.cv_results_['mean_test_score']\n",
        "stds = grid_result.cv_results_['std_test_score']\n",
        "params = grid_result.cv_results_['params']\n",
        "for mean, stdev, param in zip(means, stds, params):\n",
        "   print(\"%f (%f) with: %r\" % (mean, stdev, param))"
      ],
      "execution_count": 0,
      "outputs": [
        {
          "output_type": "stream",
          "text": [
            "Best: 0.933000 using {'batch_size': 16, 'epochs': 5}\n",
            "0.904100 (0.024067) with: {'batch_size': 16, 'epochs': 1}\n",
            "0.925700 (0.015564) with: {'batch_size': 16, 'epochs': 3}\n",
            "0.933000 (0.010930) with: {'batch_size': 16, 'epochs': 5}\n",
            "0.900000 (0.019551) with: {'batch_size': 32, 'epochs': 1}\n",
            "0.919100 (0.015411) with: {'batch_size': 32, 'epochs': 3}\n",
            "0.930100 (0.011512) with: {'batch_size': 32, 'epochs': 5}\n"
          ],
          "name": "stdout"
        }
      ]
    },
    {
      "cell_type": "markdown",
      "metadata": {
        "id": "WPpeZsdhq47R",
        "colab_type": "text"
      },
      "source": [
        "## Convolutional Neural Network\n",
        "---\n"
      ]
    },
    {
      "cell_type": "code",
      "metadata": {
        "id": "i6JEdHq6q5jw",
        "colab_type": "code",
        "outputId": "fe726117-7336-42ad-cfc5-996b79595101",
        "colab": {
          "base_uri": "https://localhost:8080/",
          "height": 451
        }
      },
      "source": [
        "# define the input\n",
        "xi = K.Input((28,28,1))\n",
        "\n",
        "# define the network\n",
        "xn = K.layers.Dropout(rate)(xi)\n",
        "xn = K.layers.Conv2D(64, (3,3), padding='same', activation='relu')(xn)\n",
        "xn = K.layers.BatchNormalization()(xn)\n",
        "xn = K.layers.Conv2D( 1, (3,3), padding='same', activation='relu')(xn)\n",
        "xn = K.layers.Flatten()(xn)\n",
        "\n",
        "# define the output\n",
        "xo = K.layers.Dense(10, activation='softmax')(xn)\n",
        "\n",
        "model = K.Model(inputs=[xi], outputs=[xo])\n",
        "print(model.summary())"
      ],
      "execution_count": 0,
      "outputs": [
        {
          "output_type": "stream",
          "text": [
            "Model: \"model\"\n",
            "_________________________________________________________________\n",
            "Layer (type)                 Output Shape              Param #   \n",
            "=================================================================\n",
            "input_1 (InputLayer)         [(None, 28, 28, 1)]       0         \n",
            "_________________________________________________________________\n",
            "dropout_3 (Dropout)          (None, 28, 28, 1)         0         \n",
            "_________________________________________________________________\n",
            "conv2d (Conv2D)              (None, 28, 28, 64)        640       \n",
            "_________________________________________________________________\n",
            "batch_normalization_1 (Batch (None, 28, 28, 64)        256       \n",
            "_________________________________________________________________\n",
            "conv2d_1 (Conv2D)            (None, 28, 28, 1)         577       \n",
            "_________________________________________________________________\n",
            "flatten_23 (Flatten)         (None, 784)               0         \n",
            "_________________________________________________________________\n",
            "dense_46 (Dense)             (None, 10)                7850      \n",
            "=================================================================\n",
            "Total params: 9,323\n",
            "Trainable params: 9,195\n",
            "Non-trainable params: 128\n",
            "_________________________________________________________________\n",
            "None\n"
          ],
          "name": "stdout"
        }
      ]
    },
    {
      "cell_type": "code",
      "metadata": {
        "id": "5nM5ENgpdH4F",
        "colab_type": "code",
        "outputId": "77e69b69-0224-436c-e310-18195320ea67",
        "colab": {
          "base_uri": "https://localhost:8080/",
          "height": 92
        }
      },
      "source": [
        "print(train_images.shape)\n",
        "train_images = change_dim(train_images,'cnn')\n",
        "test_images = change_dim(test_images,'cnn')\n",
        "print(train_images.shape)\n"
      ],
      "execution_count": 0,
      "outputs": [
        {
          "output_type": "stream",
          "text": [
            "(60000, 28, 28)\n",
            "\n",
            "\n",
            "(60000, 28, 28, 1)\n"
          ],
          "name": "stdout"
        }
      ]
    },
    {
      "cell_type": "code",
      "metadata": {
        "id": "B44B1ydydQnz",
        "colab_type": "code",
        "outputId": "f8ceb0f4-3a91-450a-eb9b-d23e2c6cd0ce",
        "colab": {
          "base_uri": "https://localhost:8080/",
          "height": 243
        }
      },
      "source": [
        "model.compile(optimizer='adam',\n",
        "             loss='sparse_categorical_crossentropy',\n",
        "              metrics=['accuracy']\n",
        "             )\n",
        "\n",
        "model.fit(x = train_images,\n",
        "          y = train_labels,\n",
        "         verbose = 2,\n",
        "         epochs = 5,\n",
        "         batch_size = 32,\n",
        "         validation_data = (test_images, test_labels))"
      ],
      "execution_count": 0,
      "outputs": [
        {
          "output_type": "stream",
          "text": [
            "Train on 60000 samples, validate on 10000 samples\n",
            "Epoch 1/5\n",
            "60000/60000 - 253s - loss: 0.4425 - acc: 0.8637 - val_loss: 0.3606 - val_acc: 0.8920\n",
            "Epoch 2/5\n",
            "60000/60000 - 254s - loss: 0.3270 - acc: 0.9020 - val_loss: 0.3150 - val_acc: 0.9048\n",
            "Epoch 3/5\n",
            "60000/60000 - 254s - loss: 0.3074 - acc: 0.9062 - val_loss: 0.2585 - val_acc: 0.9253\n",
            "Epoch 4/5\n",
            "60000/60000 - 255s - loss: 0.2956 - acc: 0.9107 - val_loss: 0.2833 - val_acc: 0.9213\n",
            "Epoch 5/5\n",
            "60000/60000 - 255s - loss: 0.2834 - acc: 0.9148 - val_loss: 0.2925 - val_acc: 0.9089\n"
          ],
          "name": "stdout"
        },
        {
          "output_type": "execute_result",
          "data": {
            "text/plain": [
              "<tensorflow.python.keras.callbacks.History at 0x7fe2acbfbd30>"
            ]
          },
          "metadata": {
            "tags": []
          },
          "execution_count": 17
        }
      ]
    },
    {
      "cell_type": "markdown",
      "metadata": {
        "id": "hFhjDgxz0XeM",
        "colab_type": "text"
      },
      "source": [
        "## Reccurent Neural Networks\n",
        "---"
      ]
    },
    {
      "cell_type": "markdown",
      "metadata": {
        "id": "4VwLa6Dudfhs",
        "colab_type": "text"
      },
      "source": [
        "### LSTM and GRU"
      ]
    },
    {
      "cell_type": "code",
      "metadata": {
        "id": "wQSRgpL50XyW",
        "colab_type": "code",
        "outputId": "d0546bdb-3791-42f9-8379-b1bed0d9d92d",
        "colab": {
          "base_uri": "https://localhost:8080/",
          "height": 413
        }
      },
      "source": [
        "# define the input\n",
        "xi = K.Input((28,28))\n",
        "\n",
        "# define the network\n",
        "xn = K.layers.Dropout(rate)(xi)\n",
        "xn = K.layers.LSTM( 64, return_sequences=True)(xn)\n",
        "xn = K.layers.BatchNormalization()(xn)\n",
        "xn = K.layers.GRU(64, return_sequences=False)(xn)\n",
        "\n",
        "# define the output\n",
        "xo = K.layers.Dense(10, activation='softmax')(xn)\n",
        "\n",
        "model = K.Model(inputs=[xi], outputs=[xo])\n",
        "print(model.summary())"
      ],
      "execution_count": 0,
      "outputs": [
        {
          "output_type": "stream",
          "text": [
            "Model: \"model_1\"\n",
            "_________________________________________________________________\n",
            "Layer (type)                 Output Shape              Param #   \n",
            "=================================================================\n",
            "input_2 (InputLayer)         [(None, 28, 28)]          0         \n",
            "_________________________________________________________________\n",
            "dropout_4 (Dropout)          (None, 28, 28)            0         \n",
            "_________________________________________________________________\n",
            "lstm (LSTM)                  (None, 28, 64)            23808     \n",
            "_________________________________________________________________\n",
            "batch_normalization_2 (Batch (None, 28, 64)            256       \n",
            "_________________________________________________________________\n",
            "gru (GRU)                    (None, 64)                24768     \n",
            "_________________________________________________________________\n",
            "dense_47 (Dense)             (None, 10)                650       \n",
            "=================================================================\n",
            "Total params: 49,482\n",
            "Trainable params: 49,354\n",
            "Non-trainable params: 128\n",
            "_________________________________________________________________\n",
            "None\n"
          ],
          "name": "stdout"
        }
      ]
    },
    {
      "cell_type": "code",
      "metadata": {
        "id": "kjNfI1DpdUSp",
        "colab_type": "code",
        "outputId": "974b1754-8fbf-41dd-d43f-7b36989a977c",
        "colab": {
          "base_uri": "https://localhost:8080/",
          "height": 92
        }
      },
      "source": [
        "print(train_images.shape)\n",
        "train_images = change_dim(train_images,'rnn')\n",
        "test_images = change_dim(test_images,'rnn')\n",
        "print(train_images.shape)"
      ],
      "execution_count": 0,
      "outputs": [
        {
          "output_type": "stream",
          "text": [
            "(60000, 28, 28, 1)\n",
            "\n",
            "\n",
            "(60000, 28, 28)\n"
          ],
          "name": "stdout"
        }
      ]
    },
    {
      "cell_type": "code",
      "metadata": {
        "id": "CDJfPycmdUJK",
        "colab_type": "code",
        "outputId": "754bdbbc-acd1-4a6d-e496-153d2b89bb03",
        "colab": {
          "base_uri": "https://localhost:8080/",
          "height": 320
        }
      },
      "source": [
        "model.compile(optimizer=tf.train.AdamOptimizer(learning_rate=0.003),\n",
        "             loss='sparse_categorical_crossentropy',\n",
        "              metrics=['accuracy']\n",
        "             )\n",
        "\n",
        "model.fit(x = train_images,\n",
        "          y = train_labels,\n",
        "         verbose = 2,\n",
        "         epochs = 5,\n",
        "         batch_size = 32,\n",
        "         validation_data = (test_images, test_labels))"
      ],
      "execution_count": 0,
      "outputs": [
        {
          "output_type": "stream",
          "text": [
            "Train on 60000 samples, validate on 10000 samples\n"
          ],
          "name": "stdout"
        },
        {
          "output_type": "stream",
          "text": [
            "W0822 13:24:30.281183 140612855375744 deprecation.py:323] From /usr/local/lib/python3.6/dist-packages/tensorflow/python/ops/math_grad.py:1250: add_dispatch_support.<locals>.wrapper (from tensorflow.python.ops.array_ops) is deprecated and will be removed in a future version.\n",
            "Instructions for updating:\n",
            "Use tf.where in 2.0, which has the same broadcast rule as np.where\n"
          ],
          "name": "stderr"
        },
        {
          "output_type": "stream",
          "text": [
            "Epoch 1/5\n",
            "60000/60000 - 103s - loss: 0.3263 - acc: 0.8930 - val_loss: 0.1256 - val_acc: 0.9626\n",
            "Epoch 2/5\n",
            "60000/60000 - 100s - loss: 0.1526 - acc: 0.9523 - val_loss: 0.0834 - val_acc: 0.9753\n",
            "Epoch 3/5\n",
            "60000/60000 - 100s - loss: 0.1287 - acc: 0.9605 - val_loss: 0.0706 - val_acc: 0.9781\n",
            "Epoch 4/5\n",
            "60000/60000 - 101s - loss: 0.1197 - acc: 0.9627 - val_loss: 0.0691 - val_acc: 0.9785\n",
            "Epoch 5/5\n",
            "60000/60000 - 101s - loss: 0.1133 - acc: 0.9650 - val_loss: 0.0617 - val_acc: 0.9799\n"
          ],
          "name": "stdout"
        },
        {
          "output_type": "execute_result",
          "data": {
            "text/plain": [
              "<tensorflow.python.keras.callbacks.History at 0x7fe2ab1b3c88>"
            ]
          },
          "metadata": {
            "tags": []
          },
          "execution_count": 21
        }
      ]
    },
    {
      "cell_type": "markdown",
      "metadata": {
        "id": "5W3wqhmEdbmJ",
        "colab_type": "text"
      },
      "source": [
        "### Bidirectional"
      ]
    },
    {
      "cell_type": "code",
      "metadata": {
        "id": "o4kmzgcTdaZf",
        "colab_type": "code",
        "outputId": "7e514ed5-2cd8-4a5b-ca9e-08c8ad8cb5b3",
        "colab": {
          "base_uri": "https://localhost:8080/",
          "height": 603
        }
      },
      "source": [
        "# define the input\n",
        "xi = K.Input((28,28))\n",
        "\n",
        "# define the network\n",
        "xn = K.layers.Dropout(rate)(xi)\n",
        "xn = K.layers.Bidirectional(K.layers.LSTM( 32, return_sequences=True), merge_mode='ave')(xn)\n",
        "xn = K.layers.BatchNormalization()(xn)\n",
        "xn = K.layers.Bidirectional(K.layers.LSTM(32, return_sequences=False), merge_mode='ave')(xn)\n",
        "\n",
        "# define the output\n",
        "xo = K.layers.Dense(10, activation='softmax')(xn)\n",
        "\n",
        "model = K.Model(inputs=[xi], outputs=[xo])\n",
        "print(model.summary())"
      ],
      "execution_count": 0,
      "outputs": [
        {
          "output_type": "stream",
          "text": [
            "W0822 13:33:13.101904 140612855375744 deprecation.py:506] From /usr/local/lib/python3.6/dist-packages/tensorflow/python/ops/init_ops.py:97: calling GlorotUniform.__init__ (from tensorflow.python.ops.init_ops) with dtype is deprecated and will be removed in a future version.\n",
            "Instructions for updating:\n",
            "Call initializer instance with the dtype argument instead of passing it to the constructor\n",
            "W0822 13:33:13.103652 140612855375744 deprecation.py:506] From /usr/local/lib/python3.6/dist-packages/tensorflow/python/ops/init_ops.py:97: calling Orthogonal.__init__ (from tensorflow.python.ops.init_ops) with dtype is deprecated and will be removed in a future version.\n",
            "Instructions for updating:\n",
            "Call initializer instance with the dtype argument instead of passing it to the constructor\n",
            "W0822 13:33:13.105262 140612855375744 deprecation.py:506] From /usr/local/lib/python3.6/dist-packages/tensorflow/python/ops/init_ops.py:97: calling Zeros.__init__ (from tensorflow.python.ops.init_ops) with dtype is deprecated and will be removed in a future version.\n",
            "Instructions for updating:\n",
            "Call initializer instance with the dtype argument instead of passing it to the constructor\n"
          ],
          "name": "stderr"
        },
        {
          "output_type": "stream",
          "text": [
            "Model: \"model_2\"\n",
            "_________________________________________________________________\n",
            "Layer (type)                 Output Shape              Param #   \n",
            "=================================================================\n",
            "input_3 (InputLayer)         [(None, 28, 28)]          0         \n",
            "_________________________________________________________________\n",
            "dropout_5 (Dropout)          (None, 28, 28)            0         \n",
            "_________________________________________________________________\n",
            "bidirectional (Bidirectional (None, 28, 32)            15616     \n",
            "_________________________________________________________________\n",
            "batch_normalization_3 (Batch (None, 28, 32)            128       \n",
            "_________________________________________________________________\n",
            "bidirectional_1 (Bidirection (None, 32)                16640     \n",
            "_________________________________________________________________\n",
            "dense_48 (Dense)             (None, 10)                330       \n",
            "=================================================================\n",
            "Total params: 32,714\n",
            "Trainable params: 32,650\n",
            "Non-trainable params: 64\n",
            "_________________________________________________________________\n",
            "None\n"
          ],
          "name": "stdout"
        }
      ]
    },
    {
      "cell_type": "code",
      "metadata": {
        "id": "tZGpnDN_dias",
        "colab_type": "code",
        "outputId": "47d23806-9668-4476-f7f1-f6eb22350021",
        "colab": {
          "base_uri": "https://localhost:8080/",
          "height": 243
        }
      },
      "source": [
        "model.compile(optimizer=tf.train.AdamOptimizer(learning_rate=0.003),\n",
        "             loss='sparse_categorical_crossentropy',\n",
        "              metrics=['accuracy']\n",
        "             )\n",
        "\n",
        "model.fit(x = train_images,\n",
        "          y = train_labels,\n",
        "          verbose = 2,\n",
        "          epochs = 5,\n",
        "          batch_size = 32,\n",
        "          validation_data = (test_images, test_labels))"
      ],
      "execution_count": 0,
      "outputs": [
        {
          "output_type": "stream",
          "text": [
            "Train on 60000 samples, validate on 10000 samples\n",
            "Epoch 1/5\n",
            "60000/60000 - 133s - loss: 0.3366 - acc: 0.8944 - val_loss: 0.1276 - val_acc: 0.9604\n",
            "Epoch 2/5\n",
            "60000/60000 - 128s - loss: 0.1526 - acc: 0.9531 - val_loss: 0.0825 - val_acc: 0.9755\n",
            "Epoch 3/5\n",
            "60000/60000 - 128s - loss: 0.1286 - acc: 0.9593 - val_loss: 0.0636 - val_acc: 0.9805\n",
            "Epoch 4/5\n",
            "60000/60000 - 128s - loss: 0.1161 - acc: 0.9647 - val_loss: 0.0660 - val_acc: 0.9793\n",
            "Epoch 5/5\n",
            "60000/60000 - 128s - loss: 0.1023 - acc: 0.9673 - val_loss: 0.0562 - val_acc: 0.9812\n"
          ],
          "name": "stdout"
        },
        {
          "output_type": "execute_result",
          "data": {
            "text/plain": [
              "<tensorflow.python.keras.callbacks.History at 0x7fe2a8620160>"
            ]
          },
          "metadata": {
            "tags": []
          },
          "execution_count": 23
        }
      ]
    },
    {
      "cell_type": "markdown",
      "metadata": {
        "id": "HDnEUDcc1k5U",
        "colab_type": "text"
      },
      "source": [
        "## Autoencoder\n",
        "---"
      ]
    },
    {
      "cell_type": "code",
      "metadata": {
        "id": "W7glYcxddmM0",
        "colab_type": "code",
        "outputId": "a8fe324d-b12f-4cd8-c988-923046709ca1",
        "colab": {
          "base_uri": "https://localhost:8080/",
          "height": 92
        }
      },
      "source": [
        "print(train_images.shape)\n",
        "train_images = change_dim(train_images,'cnn')\n",
        "test_images = change_dim(test_images,'cnn')\n",
        "print(train_images.shape)"
      ],
      "execution_count": 0,
      "outputs": [
        {
          "output_type": "stream",
          "text": [
            "(60000, 28, 28)\n",
            "\n",
            "\n",
            "(60000, 28, 28, 1)\n"
          ],
          "name": "stdout"
        }
      ]
    },
    {
      "cell_type": "markdown",
      "metadata": {
        "id": "h-c2tczg5ubj",
        "colab_type": "text"
      },
      "source": [
        "### Sparse AE"
      ]
    },
    {
      "cell_type": "code",
      "metadata": {
        "id": "rz73rgZN51-0",
        "colab_type": "code",
        "colab": {}
      },
      "source": [
        "import tensorflow.keras.layers as L\n",
        "\n",
        "def AutoEncoder(input_shape, layer_filters, latent_dim):\n",
        "    # First, build the Encoder Model\n",
        "    kernel_size = 3\n",
        "    inputs = K.Input(shape=input_shape, name='encoder_input')\n",
        "    x = inputs\n",
        "    for filters in layer_filters:\n",
        "        x = L.Conv2D( filters=filters,\n",
        "                      kernel_size=kernel_size,\n",
        "                      activation='relu',\n",
        "                      padding='same')(x)\n",
        "\n",
        "    shape = bk.int_shape(x)\n",
        "    x = L.Flatten()(x)\n",
        "    latent = L.Dense(latent_dim, name='latent_vector')(x)\n",
        "\n",
        "    x = L.Dense(shape[1]*shape[2]*shape[3])(latent)\n",
        "    x = L.Reshape((shape[1], shape[2], shape[3]))(x)\n",
        "    for filters in layer_filters[::-1]:\n",
        "        x = L.Conv2DTranspose( filters=filters,\n",
        "                              kernel_size=kernel_size,\n",
        "                              activation='relu',\n",
        "                              strides=1,\n",
        "                              padding='same')(x)\n",
        "    x = L.Conv2D(filters=1,\n",
        "               kernel_size=kernel_size,\n",
        "               padding='same')(x)\n",
        "    outputs = L.Activation('sigmoid', name='decoder_output')(x)\n",
        "    decoder = K.Model(inputs, outputs, name='auto_encoder')\n",
        "    return decoder"
      ],
      "execution_count": 0,
      "outputs": []
    },
    {
      "cell_type": "code",
      "metadata": {
        "id": "YW5-8MNMdp4H",
        "colab_type": "code",
        "outputId": "876486f3-93f9-4e08-a689-0531a7a5bbb8",
        "colab": {
          "base_uri": "https://localhost:8080/",
          "height": 583
        }
      },
      "source": [
        "# Autoencoder(input_shape(m,n), layer_filters, latent dim)\n",
        "autoencoder = AutoEncoder(train_images.shape[1:],[32,16], 256)\n",
        "autoencoder.summary()"
      ],
      "execution_count": 0,
      "outputs": [
        {
          "output_type": "stream",
          "text": [
            "Model: \"auto_encoder\"\n",
            "_________________________________________________________________\n",
            "Layer (type)                 Output Shape              Param #   \n",
            "=================================================================\n",
            "encoder_input (InputLayer)   [(None, 28, 28, 1)]       0         \n",
            "_________________________________________________________________\n",
            "conv2d_2 (Conv2D)            (None, 28, 28, 32)        320       \n",
            "_________________________________________________________________\n",
            "conv2d_3 (Conv2D)            (None, 28, 28, 16)        4624      \n",
            "_________________________________________________________________\n",
            "flatten_24 (Flatten)         (None, 12544)             0         \n",
            "_________________________________________________________________\n",
            "latent_vector (Dense)        (None, 256)               3211520   \n",
            "_________________________________________________________________\n",
            "dense_49 (Dense)             (None, 12544)             3223808   \n",
            "_________________________________________________________________\n",
            "reshape (Reshape)            (None, 28, 28, 16)        0         \n",
            "_________________________________________________________________\n",
            "conv2d_transpose (Conv2DTran (None, 28, 28, 16)        2320      \n",
            "_________________________________________________________________\n",
            "conv2d_transpose_1 (Conv2DTr (None, 28, 28, 32)        4640      \n",
            "_________________________________________________________________\n",
            "conv2d_4 (Conv2D)            (None, 28, 28, 1)         289       \n",
            "_________________________________________________________________\n",
            "decoder_output (Activation)  (None, 28, 28, 1)         0         \n",
            "=================================================================\n",
            "Total params: 6,447,521\n",
            "Trainable params: 6,447,521\n",
            "Non-trainable params: 0\n",
            "_________________________________________________________________\n"
          ],
          "name": "stdout"
        }
      ]
    },
    {
      "cell_type": "code",
      "metadata": {
        "id": "l1oUFUt0ds07",
        "colab_type": "code",
        "outputId": "18d60bb3-9cf8-424c-9489-7bf9ac20705d",
        "colab": {
          "base_uri": "https://localhost:8080/",
          "height": 243
        }
      },
      "source": [
        "# Compile ,fit and evaluate model to the data\n",
        "autoencoder.compile(loss='mse', optimizer='adam')\n",
        "autoencoder.fit(x = train_images,\n",
        "                y = train_images,\n",
        "                verbose = 2,\n",
        "                epochs = 5,\n",
        "                batch_size = 32,\n",
        "                validation_data = (test_images, test_images))"
      ],
      "execution_count": 0,
      "outputs": [
        {
          "output_type": "stream",
          "text": [
            "Train on 60000 samples, validate on 10000 samples\n",
            "Epoch 1/5\n",
            "60000/60000 - 427s - loss: 0.0083 - val_loss: 0.0018\n",
            "Epoch 2/5\n",
            "60000/60000 - 424s - loss: 0.0014 - val_loss: 0.0012\n",
            "Epoch 3/5\n",
            "60000/60000 - 426s - loss: 9.9066e-04 - val_loss: 8.7838e-04\n",
            "Epoch 4/5\n",
            "60000/60000 - 426s - loss: 7.6622e-04 - val_loss: 7.8405e-04\n",
            "Epoch 5/5\n",
            "60000/60000 - 425s - loss: 6.1601e-04 - val_loss: 5.6936e-04\n"
          ],
          "name": "stdout"
        },
        {
          "output_type": "execute_result",
          "data": {
            "text/plain": [
              "<tensorflow.python.keras.callbacks.History at 0x7fe2a84f9d30>"
            ]
          },
          "metadata": {
            "tags": []
          },
          "execution_count": 29
        }
      ]
    },
    {
      "cell_type": "markdown",
      "metadata": {
        "id": "nd9czhay5uQs",
        "colab_type": "text"
      },
      "source": [
        "### VAE"
      ]
    },
    {
      "cell_type": "code",
      "metadata": {
        "id": "JZWy69s252eH",
        "colab_type": "code",
        "colab": {}
      },
      "source": [
        "def sampling(args):\n",
        "    z_mean, z_log_var = args\n",
        "    batch = bk.shape(z_mean)[0]\n",
        "    dim = bk.int_shape(z_mean)[1]\n",
        "    # by default, random_normal has mean = 0 and std = 1.0\n",
        "    epsilon = bk.random_normal(shape=(batch, dim))\n",
        "    return z_mean + bk.exp(0.5 * z_log_var) * epsilon\n",
        "\n",
        "def VAE(input_shape, latent_dim):\n",
        "    # VAE model = encoder + decoder\n",
        "    # build encoder model\n",
        "    intermediate_dim = 512\n",
        "    xi = K.Input(shape=input_shape, name='encoder_input')\n",
        "    x1 = L.Conv2D(filters=64,\n",
        "                  kernel_size=3,\n",
        "                  strides=1,\n",
        "                  activation='relu',\n",
        "                  padding='valid')(xi)\n",
        "    x1 = L.MaxPooling2D()(x1)\n",
        "    \n",
        "    shape = bk.int_shape(x1)\n",
        "    x1 = L.Flatten()(x1)\n",
        "    x1 = L.Dense(intermediate_dim, activation='relu')(x1)\n",
        "    \n",
        "    z_mean = L.Dense(latent_dim, name='z_mean')(x1)\n",
        "    z_log_var = L.Dense(latent_dim, name='z_log_var')(x1)\n",
        "    z = L.Lambda(sampling, output_shape=(latent_dim,), name='z')([z_mean, z_log_var])\n",
        "\n",
        "    x2 = L.Dense(intermediate_dim, activation='relu')(z)\n",
        "    x2 = L.Dense(shape[1] * shape[2] * shape[3])(x2)\n",
        "    x2 = L.Reshape((shape[1], shape[2], shape[3]))(x2)\n",
        "    x2 = L.UpSampling2D()(x2)\n",
        "    \n",
        "    x2 = L.Conv2DTranspose(filters=64,\n",
        "                           kernel_size=3,\n",
        "                           strides=1,\n",
        "                           activation='relu',\n",
        "                           padding='valid')(x2)\n",
        "    xo = L.Conv2DTranspose(filters=1,\n",
        "                            kernel_size=3,\n",
        "                            padding='same')(x2)\n",
        "    \n",
        "    vae = K.Model(xi, xo, name='vae_mlp')\n",
        "    return vae"
      ],
      "execution_count": 0,
      "outputs": []
    },
    {
      "cell_type": "code",
      "metadata": {
        "id": "Kkp--6NJd3tM",
        "colab_type": "code",
        "outputId": "6da371cd-68fc-41db-ed3e-4b62135a69b6",
        "colab": {
          "base_uri": "https://localhost:8080/",
          "height": 715
        }
      },
      "source": [
        "# Autoencoder(input_shape(m,n), layer_filters, latent dim)\n",
        "vae = VAE(train_images.shape[1:], 256)\n",
        "vae.summary()"
      ],
      "execution_count": 0,
      "outputs": [
        {
          "output_type": "stream",
          "text": [
            "Model: \"vae_mlp\"\n",
            "__________________________________________________________________________________________________\n",
            "Layer (type)                    Output Shape         Param #     Connected to                     \n",
            "==================================================================================================\n",
            "encoder_input (InputLayer)      [(None, 28, 28, 1)]  0                                            \n",
            "__________________________________________________________________________________________________\n",
            "conv2d_5 (Conv2D)               (None, 26, 26, 64)   640         encoder_input[0][0]              \n",
            "__________________________________________________________________________________________________\n",
            "max_pooling2d (MaxPooling2D)    (None, 13, 13, 64)   0           conv2d_5[0][0]                   \n",
            "__________________________________________________________________________________________________\n",
            "flatten_25 (Flatten)            (None, 10816)        0           max_pooling2d[0][0]              \n",
            "__________________________________________________________________________________________________\n",
            "dense_50 (Dense)                (None, 512)          5538304     flatten_25[0][0]                 \n",
            "__________________________________________________________________________________________________\n",
            "z_mean (Dense)                  (None, 256)          131328      dense_50[0][0]                   \n",
            "__________________________________________________________________________________________________\n",
            "z_log_var (Dense)               (None, 256)          131328      dense_50[0][0]                   \n",
            "__________________________________________________________________________________________________\n",
            "z (Lambda)                      (None, 256)          0           z_mean[0][0]                     \n",
            "                                                                 z_log_var[0][0]                  \n",
            "__________________________________________________________________________________________________\n",
            "dense_51 (Dense)                (None, 512)          131584      z[0][0]                          \n",
            "__________________________________________________________________________________________________\n",
            "dense_52 (Dense)                (None, 10816)        5548608     dense_51[0][0]                   \n",
            "__________________________________________________________________________________________________\n",
            "reshape_1 (Reshape)             (None, 13, 13, 64)   0           dense_52[0][0]                   \n",
            "__________________________________________________________________________________________________\n",
            "up_sampling2d (UpSampling2D)    (None, 26, 26, 64)   0           reshape_1[0][0]                  \n",
            "__________________________________________________________________________________________________\n",
            "conv2d_transpose_2 (Conv2DTrans (None, 28, 28, 64)   36928       up_sampling2d[0][0]              \n",
            "__________________________________________________________________________________________________\n",
            "conv2d_transpose_3 (Conv2DTrans (None, 28, 28, 1)    577         conv2d_transpose_2[0][0]         \n",
            "==================================================================================================\n",
            "Total params: 11,519,297\n",
            "Trainable params: 11,519,297\n",
            "Non-trainable params: 0\n",
            "__________________________________________________________________________________________________\n"
          ],
          "name": "stdout"
        }
      ]
    },
    {
      "cell_type": "code",
      "metadata": {
        "id": "R6goGuuqd5OQ",
        "colab_type": "code",
        "outputId": "b0fb2a7d-966a-4d45-eca9-cc13556e9608",
        "colab": {
          "base_uri": "https://localhost:8080/",
          "height": 243
        }
      },
      "source": [
        "# Compile ,fit and evaluate model to the data\n",
        "vae.compile(loss='mse', optimizer='adam')\n",
        "vae.fit(x = train_images,\n",
        "        y = train_images,\n",
        "        verbose = 2,\n",
        "        epochs = 5,\n",
        "        batch_size = 32,\n",
        "        validation_data = (test_images, test_images))"
      ],
      "execution_count": 0,
      "outputs": [
        {
          "output_type": "stream",
          "text": [
            "Train on 60000 samples, validate on 10000 samples\n",
            "Epoch 1/5\n",
            "60000/60000 - 552s - loss: 0.0104 - val_loss: 0.0047\n",
            "Epoch 2/5\n",
            "60000/60000 - 550s - loss: 0.0040 - val_loss: 0.0034\n",
            "Epoch 3/5\n",
            "60000/60000 - 552s - loss: 0.0031 - val_loss: 0.0028\n",
            "Epoch 4/5\n",
            "60000/60000 - 553s - loss: 0.0026 - val_loss: 0.0026\n",
            "Epoch 5/5\n",
            "60000/60000 - 549s - loss: 0.0023 - val_loss: 0.0021\n"
          ],
          "name": "stdout"
        },
        {
          "output_type": "execute_result",
          "data": {
            "text/plain": [
              "<tensorflow.python.keras.callbacks.History at 0x7fe2a7cb7d68>"
            ]
          },
          "metadata": {
            "tags": []
          },
          "execution_count": 32
        }
      ]
    },
    {
      "cell_type": "markdown",
      "metadata": {
        "id": "VEsk3_xX5uDb",
        "colab_type": "text"
      },
      "source": [
        "### U-Net"
      ]
    },
    {
      "cell_type": "code",
      "metadata": {
        "id": "dl0gWD0G2gaq",
        "colab_type": "code",
        "colab": {}
      },
      "source": [
        "def Autoencoder_Unet(input_shape, latent_dim):\n",
        "    filters = [32,64,128,128,64,32]\n",
        "    kernel_size = 3\n",
        "\n",
        "    xi = K.Input(shape=input_shape, name='encoder_input')\n",
        "    x1 = L.Conv2D(filters=filters[0],\n",
        "                  kernel_size=(kernel_size,1),\n",
        "                  activation='relu',\n",
        "                  padding='valid')(xi)\n",
        "    x1 = L.MaxPooling2D()(x1)\n",
        "    x2 = L.Conv2D(filters=filters[1],\n",
        "               kernel_size=kernel_size,\n",
        "               activation='relu',\n",
        "               padding='same')(x1)\n",
        "    x3 = L.Conv2D(filters=filters[2],\n",
        "               kernel_size=kernel_size,\n",
        "               activation='relu',\n",
        "               padding='same')(x2)\n",
        "    shape = bk.int_shape(x3)\n",
        "    xf = L.Flatten()(x3)\n",
        "    xf = L.Dense(latent_dim, name='latent_vector')(xf)\n",
        "    xf = L.Dense(shape[1] * shape[2] * shape[3])(xf)\n",
        "    xf = L.Reshape((shape[1], shape[2], shape[3]))(xf)\n",
        "\n",
        "    x4 = L.Conv2DTranspose(filters=filters[3],\n",
        "                        kernel_size=kernel_size,\n",
        "                        activation='relu',\n",
        "                        padding='same')(xf)\n",
        "    x4 = L.Add()([x3,x4])\n",
        "    x5 = L.Conv2DTranspose(filters=filters[4],\n",
        "                        kernel_size=kernel_size,\n",
        "                        activation='relu',\n",
        "                        padding='same')(x4)\n",
        "    x5 = L.Add()([x2,x5])\n",
        "    x6 = L.Conv2DTranspose(filters=filters[5],\n",
        "                        kernel_size=kernel_size,\n",
        "                        activation='relu',\n",
        "                        padding='same')(x5)\n",
        "    x6 = L.Add()([x1,x6])\n",
        "    x6 = L.UpSampling2D()(x6)\n",
        "    x6 = L.ZeroPadding2D((1,0))(x6)\n",
        "    xo = L.Conv2DTranspose(filters=1,\n",
        "                            kernel_size=kernel_size,\n",
        "                            padding='same')(x6)\n",
        "    xo = L.Activation('sigmoid', name='decoder_output')(xo)\n",
        "    autoencoder = K.Model(xi, xo, name='autoencoder')\n",
        "    return autoencoder"
      ],
      "execution_count": 0,
      "outputs": []
    },
    {
      "cell_type": "code",
      "metadata": {
        "id": "sMsy6BDddw7V",
        "colab_type": "code",
        "outputId": "46c852c4-7528-4733-859a-1f0096eb0f06",
        "colab": {
          "base_uri": "https://localhost:8080/",
          "height": 941
        }
      },
      "source": [
        "# Autoencoder(input_shape(m,n), layer_filters, latent dim)\n",
        "autoencoder_unet = Autoencoder_Unet(train_images.shape[1:], 256)\n",
        "autoencoder_unet.summary()"
      ],
      "execution_count": 0,
      "outputs": [
        {
          "output_type": "stream",
          "text": [
            "Model: \"autoencoder\"\n",
            "__________________________________________________________________________________________________\n",
            "Layer (type)                    Output Shape         Param #     Connected to                     \n",
            "==================================================================================================\n",
            "encoder_input (InputLayer)      [(None, 28, 28, 1)]  0                                            \n",
            "__________________________________________________________________________________________________\n",
            "conv2d_6 (Conv2D)               (None, 26, 28, 32)   128         encoder_input[0][0]              \n",
            "__________________________________________________________________________________________________\n",
            "max_pooling2d_1 (MaxPooling2D)  (None, 13, 14, 32)   0           conv2d_6[0][0]                   \n",
            "__________________________________________________________________________________________________\n",
            "conv2d_7 (Conv2D)               (None, 13, 14, 64)   18496       max_pooling2d_1[0][0]            \n",
            "__________________________________________________________________________________________________\n",
            "conv2d_8 (Conv2D)               (None, 13, 14, 128)  73856       conv2d_7[0][0]                   \n",
            "__________________________________________________________________________________________________\n",
            "flatten_26 (Flatten)            (None, 23296)        0           conv2d_8[0][0]                   \n",
            "__________________________________________________________________________________________________\n",
            "latent_vector (Dense)           (None, 256)          5964032     flatten_26[0][0]                 \n",
            "__________________________________________________________________________________________________\n",
            "dense_53 (Dense)                (None, 23296)        5987072     latent_vector[0][0]              \n",
            "__________________________________________________________________________________________________\n",
            "reshape_2 (Reshape)             (None, 13, 14, 128)  0           dense_53[0][0]                   \n",
            "__________________________________________________________________________________________________\n",
            "conv2d_transpose_4 (Conv2DTrans (None, 13, 14, 128)  147584      reshape_2[0][0]                  \n",
            "__________________________________________________________________________________________________\n",
            "add (Add)                       (None, 13, 14, 128)  0           conv2d_8[0][0]                   \n",
            "                                                                 conv2d_transpose_4[0][0]         \n",
            "__________________________________________________________________________________________________\n",
            "conv2d_transpose_5 (Conv2DTrans (None, 13, 14, 64)   73792       add[0][0]                        \n",
            "__________________________________________________________________________________________________\n",
            "add_1 (Add)                     (None, 13, 14, 64)   0           conv2d_7[0][0]                   \n",
            "                                                                 conv2d_transpose_5[0][0]         \n",
            "__________________________________________________________________________________________________\n",
            "conv2d_transpose_6 (Conv2DTrans (None, 13, 14, 32)   18464       add_1[0][0]                      \n",
            "__________________________________________________________________________________________________\n",
            "add_2 (Add)                     (None, 13, 14, 32)   0           max_pooling2d_1[0][0]            \n",
            "                                                                 conv2d_transpose_6[0][0]         \n",
            "__________________________________________________________________________________________________\n",
            "up_sampling2d_1 (UpSampling2D)  (None, 26, 28, 32)   0           add_2[0][0]                      \n",
            "__________________________________________________________________________________________________\n",
            "zero_padding2d (ZeroPadding2D)  (None, 28, 28, 32)   0           up_sampling2d_1[0][0]            \n",
            "__________________________________________________________________________________________________\n",
            "conv2d_transpose_7 (Conv2DTrans (None, 28, 28, 1)    289         zero_padding2d[0][0]             \n",
            "__________________________________________________________________________________________________\n",
            "decoder_output (Activation)     (None, 28, 28, 1)    0           conv2d_transpose_7[0][0]         \n",
            "==================================================================================================\n",
            "Total params: 12,283,713\n",
            "Trainable params: 12,283,713\n",
            "Non-trainable params: 0\n",
            "__________________________________________________________________________________________________\n"
          ],
          "name": "stdout"
        }
      ]
    },
    {
      "cell_type": "code",
      "metadata": {
        "id": "ofIitkB3dywm",
        "colab_type": "code",
        "outputId": "02908894-4334-4e96-b30f-1bca1eee65ee",
        "colab": {
          "base_uri": "https://localhost:8080/",
          "height": 55
        }
      },
      "source": [
        "# Compile ,fit and evaluate model to the data\n",
        "autoencoder_unet.compile(loss='mse', optimizer='adam')\n",
        "autoencoder_unet.fit( x = train_images,\n",
        "                      y = train_images,\n",
        "                      verbose = 2,\n",
        "                      epochs = 5,\n",
        "                      batch_size = 32,\n",
        "                      validation_data = (test_images, test_images))"
      ],
      "execution_count": 0,
      "outputs": [
        {
          "output_type": "stream",
          "text": [
            "Train on 60000 samples, validate on 10000 samples\n",
            "Epoch 1/5\n"
          ],
          "name": "stdout"
        }
      ]
    },
    {
      "cell_type": "markdown",
      "metadata": {
        "id": "LWTHuadl56Y0",
        "colab_type": "text"
      },
      "source": [
        "## Paper 1"
      ]
    },
    {
      "cell_type": "code",
      "metadata": {
        "id": "2Etd-t157fh9",
        "colab_type": "code",
        "colab": {}
      },
      "source": [
        "!pip install keras\n",
        "!pip install keras-tcn"
      ],
      "execution_count": 0,
      "outputs": []
    },
    {
      "cell_type": "code",
      "metadata": {
        "id": "V9BcZd9z7gEc",
        "colab_type": "code",
        "colab": {}
      },
      "source": [
        "from keras import Input as k_Input\n",
        "from keras import Model as k_Model\n",
        "import keras.layers as kl\n",
        "from tcn import TCN\n",
        "xi = k_Input(shape=(28,28))\n",
        "\n",
        "xn = TCN(nb_filters = 32,\n",
        "         kernel_size=3,\n",
        "         dilations=[2,4,8],\n",
        "         nb_stacks=1,\n",
        "         dropout_rate=0.5,\n",
        "         activation='relu',\n",
        "         return_sequences=False)(xi)\n",
        "xn = kl.Dense(64, activation='relu')(xn)\n",
        "xo = kl.Dense(10, activation='softmax')(xn)\n",
        "\n",
        "model = k_Model(inputs=[xi], outputs=[xo])\n",
        "print(model.summary())"
      ],
      "execution_count": 0,
      "outputs": []
    },
    {
      "cell_type": "code",
      "metadata": {
        "id": "6m_DZyUa7gA-",
        "colab_type": "code",
        "colab": {}
      },
      "source": [
        "model.compile(optimizer='adam', \n",
        "              loss='sparse_categorical_crossentropy',\n",
        "              metrics=['acc'])\n",
        "\n",
        "model.fit(  x = train_images,\n",
        "            y = train_labels, \n",
        "            epochs=5, \n",
        "            batch_size=32, \n",
        "            shuffle=True,\n",
        "            verbose=0)"
      ],
      "execution_count": 0,
      "outputs": []
    },
    {
      "cell_type": "markdown",
      "metadata": {
        "id": "-UqfNLX5563V",
        "colab_type": "text"
      },
      "source": [
        "## Paper 2"
      ]
    },
    {
      "cell_type": "code",
      "metadata": {
        "id": "UrHA2tmB5sf8",
        "colab_type": "code",
        "colab": {}
      },
      "source": [
        "!git clone https://github.com/titu1994/LSTM-FCN.git\n",
        "!cd  LSTMFCN"
      ],
      "execution_count": 0,
      "outputs": []
    },
    {
      "cell_type": "code",
      "metadata": {
        "id": "tP1bOcZ06JnN",
        "colab_type": "code",
        "colab": {}
      },
      "source": [
        "from LSTMFCN.all_datasets_training import generate_lstmfcn\n",
        "from LSTMFCN.all_datasets_training import generate_alstmfcn"
      ],
      "execution_count": 0,
      "outputs": []
    },
    {
      "cell_type": "code",
      "metadata": {
        "id": "VG3UH3LT6M3t",
        "colab_type": "code",
        "colab": {}
      },
      "source": [
        "print('LSTM and FCN')\n",
        "model = generate_lstmfcn(MAX_SEQUENCE_LENGTH=28*28, NB_CLASS=10, NUM_CELLS=8)"
      ],
      "execution_count": 0,
      "outputs": []
    },
    {
      "cell_type": "code",
      "metadata": {
        "id": "c8OT-b_u6NJL",
        "colab_type": "code",
        "colab": {}
      },
      "source": [
        "model.compile(optimizer='adam', \n",
        "              loss='sparse_categorical_crossentropy',\n",
        "              metrics=['acc'])\n",
        "\n",
        "model.fit(  x = train_images.reshape(-1,1,28*28),\n",
        "            y = train_labels, \n",
        "            epochs=5, \n",
        "            batch_size=32, \n",
        "            shuffle=True,\n",
        "            verbose=2)"
      ],
      "execution_count": 0,
      "outputs": []
    },
    {
      "cell_type": "code",
      "metadata": {
        "id": "fVslDJuv61hM",
        "colab_type": "code",
        "colab": {}
      },
      "source": [
        "model = generate_alstmfcn(MAX_SEQUENCE_LENGTH=28*28, NB_CLASS=10, NUM_CELLS=8)"
      ],
      "execution_count": 0,
      "outputs": []
    },
    {
      "cell_type": "code",
      "metadata": {
        "id": "TNf4r6vs64Jw",
        "colab_type": "code",
        "colab": {}
      },
      "source": [
        "model.compile(optimizer='adam', \n",
        "              loss='sparse_categorical_crossentropy',\n",
        "              metrics=['acc'])\n",
        "\n",
        "model.fit(  x = train_data[0].reshape(-1,1,28*28),\n",
        "            y = train_data[1], \n",
        "            epochs=5, \n",
        "            batch_size=32, \n",
        "            shuffle=True,\n",
        "            validation_data = (test_data[0].reshape(-1,1,28*28),test_data[1]),\n",
        "            verbose=2)"
      ],
      "execution_count": 0,
      "outputs": []
    },
    {
      "cell_type": "markdown",
      "metadata": {
        "id": "QCMtdYJ25sPl",
        "colab_type": "text"
      },
      "source": [
        "## Thanks"
      ]
    },
    {
      "cell_type": "code",
      "metadata": {
        "id": "d_p7E4xz59ey",
        "colab_type": "code",
        "colab": {}
      },
      "source": [
        ""
      ],
      "execution_count": 0,
      "outputs": []
    }
  ]
}