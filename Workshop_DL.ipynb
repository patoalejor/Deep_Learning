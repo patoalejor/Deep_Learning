{
  "nbformat": 4,
  "nbformat_minor": 0,
  "metadata": {
    "colab": {
      "name": "Workshop_DL.ipynb",
      "version": "0.3.2",
      "provenance": [],
      "collapsed_sections": []
    },
    "kernelspec": {
      "name": "python3",
      "display_name": "Python 3"
    }
  },
  "cells": [
    {
      "cell_type": "markdown",
      "metadata": {
        "id": "mImAY_ZSocG6",
        "colab_type": "text"
      },
      "source": [
        "# Deep Learning Hands-On 2019\n",
        "----\n",
        "## Content\n",
        "\n",
        "- DL Introduction\n",
        "- Basic Regularization\n",
        "  - *Early Stopping*\n",
        "  - *Dropout*\n",
        "  - *Weight Penalty*\n",
        "  - *Normalization*\n",
        "- Convolutional Neural Network\n",
        "- Recurrent Neural Network\n",
        "- Autoencoder **(CNN & RNN)**\n",
        "  - *Denoising*\n",
        "  - *U-Net*\n",
        "  - *Variational*\n",
        "- Implementations\n",
        "  - Paper 1\n",
        "  - Paper 2\n"
      ]
    },
    {
      "cell_type": "markdown",
      "metadata": {
        "id": "__i0OXHRogGa",
        "colab_type": "text"
      },
      "source": [
        "## Import Libraries\n",
        "----"
      ]
    },
    {
      "cell_type": "code",
      "metadata": {
        "id": "IUlGVxGVoU7M",
        "colab_type": "code",
        "colab": {}
      },
      "source": [
        "import numpy as np\n",
        "import tensorflow as tf\n",
        "import tensorflow.keras as K\n",
        "import matplotlib.pyplot as plt\n",
        "\n",
        "def show_number(data,true,pred):\n",
        "  print(data.shape)\n",
        "  print(len(data.shape))\n",
        "  if len(data.shape) == 4:\n",
        "    a,b,c, _ = data.shape\n",
        "    data.shape = (a,b,c)\n",
        "  else:\n",
        "    pass\n",
        "  f, ax = plt.subplots(4,4)\n",
        "  f.set_size_inches(8,8)\n",
        "  img_idx = 0\n",
        "  for i in range(0,4):\n",
        "    for j in range(0,4):\n",
        "      ax[i][j].axis('off')\n",
        "      ax[i][j].imshow(data[img_idx],cmap=plt.cm.binary)\n",
        "      ax[i][j].set_title('True label: %d\\nPred label: %d'%(true[img_idx],pred[img_idx]))\n",
        "      img_idx += 1\n",
        "  plt.subplots_adjust(left=0, bottom=0, right=1, top=1, wspace=0, hspace=0.25)\n",
        "  plt.show()\n",
        "\n",
        "def change_dim(data,to_):\n",
        "  print()\n",
        "  dim = len(data.shape)\n",
        "  if to_ == 'cnn' and dim == 3:\n",
        "    data = np.expand_dims(data, axis=3)\n",
        "  elif to_ == 'rnn' and dim == 4:\n",
        "    data = np.squeeze(data, axis=3)\n",
        "  else:\n",
        "    print('Data already on format or dimension fail')\n",
        "  return data"
      ],
      "execution_count": 0,
      "outputs": []
    },
    {
      "cell_type": "code",
      "metadata": {
        "id": "cQVlDEZWosTh",
        "colab_type": "code",
        "colab": {
          "base_uri": "https://localhost:8080/",
          "height": 728
        },
        "outputId": "0fb3bba2-f846-4044-d6d7-6b1963bc79d2"
      },
      "source": [
        "# Read the data\n",
        "(train_images, train_labels), (test_images, test_labels) = K.datasets.mnist.load_data()\n",
        "print('Training xy: ',train_images.shape,train_labels.shape)\n",
        "print('Testing  xy: ',test_images.shape,test_labels.shape)\n",
        "train_images = train_images / 255.\n",
        "test_images  = test_images / 255.\n",
        "rnd_idx = np.random.choice(len(test_labels),25)\n",
        "show_number(test_images[rnd_idx], test_labels[rnd_idx], test_labels[rnd_idx])"
      ],
      "execution_count": 7,
      "outputs": [
        {
          "output_type": "stream",
          "text": [
            "Training xy:  (60000, 28, 28) (60000,)\n",
            "Testing  xy:  (10000, 28, 28) (10000,)\n",
            "(25, 28, 28)\n",
            "3\n"
          ],
          "name": "stdout"
        },
        {
          "output_type": "display_data",
          "data": {
            "image/png": "[encoded data removed]",
            "text/plain": [
              "<Figure size 576x576 with 16 Axes>"
            ]
          },
          "metadata": {
            "tags": []
          }
        }
      ]
    },
    {
      "cell_type": "markdown",
      "metadata": {
        "id": "ZrS0Z8_ZooYw",
        "colab_type": "text"
      },
      "source": [
        "## DL Introduction\n",
        "---"
      ]
    },
    {
      "cell_type": "code",
      "metadata": {
        "id": "UNmj8-kIoc4f",
        "colab_type": "code",
        "colab": {}
      },
      "source": [
        ""
      ],
      "execution_count": 0,
      "outputs": []
    },
    {
      "cell_type": "markdown",
      "metadata": {
        "id": "WOX9n1I3q0Jh",
        "colab_type": "text"
      },
      "source": [
        "## Regularization\n",
        "\n",
        "\n",
        "[Are Deep Neural Networks Dramatically Overfitted?](https://lilianweng.github.io/lil-log/2019/03/14/are-deep-neural-networks-dramatically-overfitted.html)\n",
        "\n",
        "---\n",
        "\n",
        "### Early Stopping"
      ]
    },
    {
      "cell_type": "code",
      "metadata": {
        "id": "PNa1blwQq0pq",
        "colab_type": "code",
        "colab": {}
      },
      "source": [
        ""
      ],
      "execution_count": 0,
      "outputs": []
    },
    {
      "cell_type": "markdown",
      "metadata": {
        "id": "0cvWymIkq1NR",
        "colab_type": "text"
      },
      "source": [
        "### Dropout"
      ]
    },
    {
      "cell_type": "code",
      "metadata": {
        "id": "n_THBPKWq1jY",
        "colab_type": "code",
        "colab": {}
      },
      "source": [
        ""
      ],
      "execution_count": 0,
      "outputs": []
    },
    {
      "cell_type": "markdown",
      "metadata": {
        "id": "kiGaS7Yqq2O5",
        "colab_type": "text"
      },
      "source": [
        "### Weight Penalty"
      ]
    },
    {
      "cell_type": "code",
      "metadata": {
        "id": "8pgaU1G8q2jj",
        "colab_type": "code",
        "colab": {}
      },
      "source": [
        ""
      ],
      "execution_count": 0,
      "outputs": []
    },
    {
      "cell_type": "markdown",
      "metadata": {
        "id": "UlO2XG-eq3iU",
        "colab_type": "text"
      },
      "source": [
        "### Normalization"
      ]
    },
    {
      "cell_type": "code",
      "metadata": {
        "id": "DbTBBXIeq326",
        "colab_type": "code",
        "colab": {}
      },
      "source": [
        ""
      ],
      "execution_count": 0,
      "outputs": []
    },
    {
      "cell_type": "markdown",
      "metadata": {
        "id": "Xtf7TafTq4QK",
        "colab_type": "text"
      },
      "source": [
        "### Grid Search"
      ]
    },
    {
      "cell_type": "code",
      "metadata": {
        "id": "nCWPd3FRq4nh",
        "colab_type": "code",
        "colab": {}
      },
      "source": [
        "# Use scikit-learn to grid search the batch size and epochs\n",
        "import numpy\n",
        "from sklearn.model_selection import GridSearchCV\n",
        "from tensorflow.keras.wrappers.scikit_learn import KerasClassifier\n",
        "# Function to create model, required for KerasClassifier\n",
        "def create_model():\n",
        "  # create model\n",
        "  model = K.Sequential()\n",
        "  model.add(K.layers.Flatten(input_shape=(28,28)))\n",
        "  model.add(K.layers.Dense(128, activation='relu'))\n",
        "  model.add(K.layers.Dense(10, activation='softmax'))\n",
        "  # Compile model\n",
        "  model.compile(loss='sparse_categorical_crossentropy', optimizer='adam', metrics=['accuracy'])\n",
        "  return model\n",
        "\n",
        "# fix random seed for reproducibility\n",
        "seed = 7\n",
        "numpy.random.seed(seed)"
      ],
      "execution_count": 0,
      "outputs": []
    },
    {
      "cell_type": "code",
      "metadata": {
        "id": "vMZhxH2etzPR",
        "colab_type": "code",
        "colab": {}
      },
      "source": [
        "# create model\n",
        "model = KerasClassifier(build_fn=create_model, verbose=0)\n",
        "# define the grid search parameters\n",
        "batch_size = [16, 32]\n",
        "epochs = [1, 3, 5]\n",
        "param_grid = dict(batch_size=batch_size, epochs=epochs)\n",
        "grid = GridSearchCV(estimator=model, param_grid=param_grid, cv=3, n_jobs=1)\n",
        "grid_result = grid.fit(test_images, test_labels)\n"
      ],
      "execution_count": 0,
      "outputs": []
    },
    {
      "cell_type": "code",
      "metadata": {
        "id": "TsHcILQ7wxjZ",
        "colab_type": "code",
        "colab": {
          "base_uri": "https://localhost:8080/",
          "height": 146
        },
        "outputId": "169d05f7-c07c-4188-eb54-5232c7d56213"
      },
      "source": [
        "# summarize results\n",
        "print(\"Best: %f using %s\" % (grid_result.best_score_, grid_result.best_params_))\n",
        "means = grid_result.cv_results_['mean_test_score']\n",
        "stds = grid_result.cv_results_['std_test_score']\n",
        "params = grid_result.cv_results_['params']\n",
        "for mean, stdev, param in zip(means, stds, params):\n",
        "   print(\"%f (%f) with: %r\" % (mean, stdev, param))"
      ],
      "execution_count": 18,
      "outputs": [
        {
          "output_type": "stream",
          "text": [
            "Best: 0.934300 using {'batch_size': 16, 'epochs': 5}\n",
            "0.902200 (0.024573) with: {'batch_size': 16, 'epochs': 1}\n",
            "0.924100 (0.015200) with: {'batch_size': 16, 'epochs': 3}\n",
            "0.934300 (0.009444) with: {'batch_size': 16, 'epochs': 5}\n",
            "0.898700 (0.019130) with: {'batch_size': 32, 'epochs': 1}\n",
            "0.920400 (0.013593) with: {'batch_size': 32, 'epochs': 3}\n",
            "0.929800 (0.012406) with: {'batch_size': 32, 'epochs': 5}\n"
          ],
          "name": "stdout"
        }
      ]
    },
    {
      "cell_type": "markdown",
      "metadata": {
        "id": "WPpeZsdhq47R",
        "colab_type": "text"
      },
      "source": [
        "## Convolutional Neural Network\n",
        "---\n"
      ]
    },
    {
      "cell_type": "code",
      "metadata": {
        "id": "i6JEdHq6q5jw",
        "colab_type": "code",
        "colab": {}
      },
      "source": [
        ""
      ],
      "execution_count": 0,
      "outputs": []
    },
    {
      "cell_type": "markdown",
      "metadata": {
        "id": "hFhjDgxz0XeM",
        "colab_type": "text"
      },
      "source": [
        "## Reccurent Neural Networks\n",
        "---"
      ]
    },
    {
      "cell_type": "code",
      "metadata": {
        "id": "wQSRgpL50XyW",
        "colab_type": "code",
        "colab": {}
      },
      "source": [
        ""
      ],
      "execution_count": 0,
      "outputs": []
    },
    {
      "cell_type": "markdown",
      "metadata": {
        "id": "HDnEUDcc1k5U",
        "colab_type": "text"
      },
      "source": [
        "## Autoencoder\n",
        "---"
      ]
    },
    {
      "cell_type": "markdown",
      "metadata": {
        "id": "h-c2tczg5ubj",
        "colab_type": "text"
      },
      "source": [
        "### Sparse AE"
      ]
    },
    {
      "cell_type": "code",
      "metadata": {
        "id": "rz73rgZN51-0",
        "colab_type": "code",
        "colab": {}
      },
      "source": [
        ""
      ],
      "execution_count": 0,
      "outputs": []
    },
    {
      "cell_type": "markdown",
      "metadata": {
        "id": "nd9czhay5uQs",
        "colab_type": "text"
      },
      "source": [
        "### VAE"
      ]
    },
    {
      "cell_type": "code",
      "metadata": {
        "id": "JZWy69s252eH",
        "colab_type": "code",
        "colab": {}
      },
      "source": [
        ""
      ],
      "execution_count": 0,
      "outputs": []
    },
    {
      "cell_type": "markdown",
      "metadata": {
        "id": "VEsk3_xX5uDb",
        "colab_type": "text"
      },
      "source": [
        "### U-Net"
      ]
    },
    {
      "cell_type": "code",
      "metadata": {
        "id": "dl0gWD0G2gaq",
        "colab_type": "code",
        "colab": {}
      },
      "source": [
        ""
      ],
      "execution_count": 0,
      "outputs": []
    },
    {
      "cell_type": "markdown",
      "metadata": {
        "id": "LWTHuadl56Y0",
        "colab_type": "text"
      },
      "source": [
        "## Paper 1"
      ]
    },
    {
      "cell_type": "code",
      "metadata": {
        "id": "2Etd-t157fh9",
        "colab_type": "code",
        "colab": {}
      },
      "source": [
        "!pip install keras\n",
        "!pip install keras-tcn"
      ],
      "execution_count": 0,
      "outputs": []
    },
    {
      "cell_type": "code",
      "metadata": {
        "id": "V9BcZd9z7gEc",
        "colab_type": "code",
        "colab": {}
      },
      "source": [
        "from keras import Input as k_Input\n",
        "from keras import Model as k_Model\n",
        "import keras.layers as kl\n",
        "from tcn import TCN\n",
        "xi = k_Input(shape=(28,28))\n",
        "\n",
        "xn = TCN(nb_filters = 32,\n",
        "         kernel_size=3,\n",
        "         dilations=[2,4,8],\n",
        "         nb_stacks=1,\n",
        "         dropout_rate=0.5,\n",
        "         activation='relu',\n",
        "         return_sequences=False)(xi)\n",
        "xn = kl.Dense(64, activation='relu')(xn)\n",
        "xo = kl.Dense(10, activation='softmax')(xn)\n",
        "\n",
        "model = k_Model(inputs=[xi], outputs=[xo])\n",
        "print(model.summary())"
      ],
      "execution_count": 0,
      "outputs": []
    },
    {
      "cell_type": "code",
      "metadata": {
        "id": "6m_DZyUa7gA-",
        "colab_type": "code",
        "colab": {}
      },
      "source": [
        "model.compile(optimizer='adam', \n",
        "              loss='sparse_categorical_crossentropy',\n",
        "              metrics=['acc'])\n",
        "\n",
        "model.fit(  x = train_images,\n",
        "            y = train_labels, \n",
        "            epochs=5, \n",
        "            batch_size=32, \n",
        "            shuffle=True,\n",
        "            verbose=0)"
      ],
      "execution_count": 0,
      "outputs": []
    },
    {
      "cell_type": "markdown",
      "metadata": {
        "id": "-UqfNLX5563V",
        "colab_type": "text"
      },
      "source": [
        "## Paper 2"
      ]
    },
    {
      "cell_type": "code",
      "metadata": {
        "id": "UrHA2tmB5sf8",
        "colab_type": "code",
        "colab": {}
      },
      "source": [
        "!git clone https://github.com/titu1994/LSTM-FCN.git\n",
        "!cd  LSTMFCN"
      ],
      "execution_count": 0,
      "outputs": []
    },
    {
      "cell_type": "code",
      "metadata": {
        "id": "tP1bOcZ06JnN",
        "colab_type": "code",
        "colab": {}
      },
      "source": [
        "from LSTMFCN.all_datasets_training import generate_lstmfcn\n",
        "from LSTMFCN.all_datasets_training import generate_alstmfcn"
      ],
      "execution_count": 0,
      "outputs": []
    },
    {
      "cell_type": "code",
      "metadata": {
        "id": "VG3UH3LT6M3t",
        "colab_type": "code",
        "colab": {}
      },
      "source": [
        "print('LSTM and FCN')\n",
        "model = generate_lstmfcn(MAX_SEQUENCE_LENGTH=28*28, NB_CLASS=10, NUM_CELLS=8)"
      ],
      "execution_count": 0,
      "outputs": []
    },
    {
      "cell_type": "code",
      "metadata": {
        "id": "c8OT-b_u6NJL",
        "colab_type": "code",
        "colab": {}
      },
      "source": [
        "model.compile(optimizer='adam', \n",
        "              loss='sparse_categorical_crossentropy',\n",
        "              metrics=['acc'])\n",
        "\n",
        "model.fit(  x = train_images.reshape(-1,1,28*28),\n",
        "            y = train_labels, \n",
        "            epochs=5, \n",
        "            batch_size=32, \n",
        "            shuffle=True,\n",
        "            verbose=2)"
      ],
      "execution_count": 0,
      "outputs": []
    },
    {
      "cell_type": "code",
      "metadata": {
        "id": "fVslDJuv61hM",
        "colab_type": "code",
        "colab": {}
      },
      "source": [
        "model = generate_alstmfcn(MAX_SEQUENCE_LENGTH=28*28, NB_CLASS=10, NUM_CELLS=8)"
      ],
      "execution_count": 0,
      "outputs": []
    },
    {
      "cell_type": "code",
      "metadata": {
        "id": "TNf4r6vs64Jw",
        "colab_type": "code",
        "colab": {}
      },
      "source": [
        "model.compile(optimizer='adam', \n",
        "              loss='sparse_categorical_crossentropy',\n",
        "              metrics=['acc'])\n",
        "\n",
        "model.fit(  x = train_data[0].reshape(-1,1,28*28),\n",
        "            y = train_data[1], \n",
        "            epochs=5, \n",
        "            batch_size=32, \n",
        "            shuffle=True,\n",
        "            validation_data = (test_data[0].reshape(-1,1,28*28),test_data[1]),\n",
        "            verbose=2)"
      ],
      "execution_count": 0,
      "outputs": []
    },
    {
      "cell_type": "markdown",
      "metadata": {
        "id": "QCMtdYJ25sPl",
        "colab_type": "text"
      },
      "source": [
        "## Thanks"
      ]
    },
    {
      "cell_type": "code",
      "metadata": {
        "id": "d_p7E4xz59ey",
        "colab_type": "code",
        "colab": {}
      },
      "source": [
        ""
      ],
      "execution_count": 0,
      "outputs": []
    }
  ]
}